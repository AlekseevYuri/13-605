{
  "nbformat": 4,
  "nbformat_minor": 0,
  "metadata": {
    "colab": {
      "name": "lagrange_parallel.ipynb",
      "provenance": [],
      "collapsed_sections": []
    },
    "kernelspec": {
      "name": "python3",
      "display_name": "Python 3"
    }
  },
  "cells": [
    {
      "cell_type": "code",
      "metadata": {
        "id": "-dSQpQn3htaB"
      },
      "source": [
        "from __future__ import annotations\r\n",
        "from numba import jit, prange\r\n",
        "import numpy\r\n",
        "import numpy.random\r\n",
        "\r\n",
        "L = numpy.random.randint(100, 1000)\r\n",
        "\r\n",
        "x = [i+5 for i in range (L)]#В этих точках\r\n",
        "y = [numpy.random.randint(100, 1000) for i in range (L)]#неизвестный многочлен принимает эти значения.\r\n",
        "\r\n",
        "x_0 = numpy.random.randint(100, 1000)#Считаем значение неизвестного многочлена в данной точке.\r\n",
        "y_0 = 0\r\n",
        "\r\n",
        "heat_m = [L,x,y,x_0]\r\n",
        "\r\n",
        "\r\n",
        "def Lagrange_nojit(L,x,y,x_0)-> numpy.float:#Ctrl+C\r\n",
        "    y_0 = 0\r\n",
        "    for i in range (L):\r\n",
        "        S_x  = y[i]\r\n",
        "        for ii in range (L):\r\n",
        "            if i!=ii:\r\n",
        "                S_x = S_x * (x[ii]-x[0])/(x[ii]-x[i])\r\n",
        "        y_0 += S_x\r\n",
        "    return y_0\r\n",
        "\r\n",
        "\r\n",
        "\r\n",
        "@jit(nopython=True, fastmath=True)\r\n",
        "def Lagrange_jit(L,x,y,x_0)-> numpy.float:#Ctrl+C\r\n",
        "    y_0 = 0\r\n",
        "    for i in range (L):\r\n",
        "        S_x  = y[i]\r\n",
        "        for ii in range (L):\r\n",
        "            if i!=ii:\r\n",
        "                S_x = S_x * (x[ii]-x[0])/(x[ii]-x[i])\r\n",
        "        y_0 += S_x\r\n",
        "    return y_0\r\n",
        "\r\n",
        "\r\n",
        "@jit(nopython=True, parallel=True, fastmath=True)\r\n",
        "def Lagrange_jit_par(L,x,y,x_0)-> numpy.float:#Ctrl+C\r\n",
        "    y_0 = 0\r\n",
        "    for i in prange (L):\r\n",
        "        S_x  = y[i]\r\n",
        "        for ii in range (L):\r\n",
        "            if i!=ii:\r\n",
        "                S_x = S_x * (x[ii]-x[0])/(x[ii]-x[i])\r\n",
        "        y_0 += S_x\r\n",
        "    return y_0\r\n",
        "\r\n",
        "\r\n"
      ],
      "execution_count": 16,
      "outputs": []
    },
    {
      "cell_type": "markdown",
      "metadata": {
        "id": "SodyoVGSJYhr"
      },
      "source": [
        "Интерполяция методом Лагранжа. \r\n",
        "На вход получаем L значений (генерируются случайным образом) неизвестного многочлена в L точках. По этим значениям строим многочлен степени не более L и ищем его значение в точке x_0. Итерация - дважды по точкам х. Для каждой точки ищется \"упрощенный\" многочлен, далее они суммируются по всем точкам."
      ]
    },
    {
      "cell_type": "code",
      "metadata": {
        "colab": {
          "base_uri": "https://localhost:8080/"
        },
        "id": "3Ja157Xmhzio",
        "outputId": "ff55205b-3398-4c13-902d-f5c85a2d952b"
      },
      "source": [
        "%timeit Lagrange_nojit(L,x,y,x_0)\r\n",
        "\r\n",
        "Lagrange_jit(L,x,y,x_0)  # give it a heat\r\n",
        "%timeit Lagrange_jit(L,x,y,x_0)\r\n",
        "\r\n",
        "Lagrange_jit_par(L,x,y,x_0)  # give it a heat\r\n",
        "%timeit Lagrange_jit_par(L,x,y,x_0)"
      ],
      "execution_count": 17,
      "outputs": [
        {
          "output_type": "stream",
          "text": [
            "10 loops, best of 5: 133 ms per loop\n"
          ],
          "name": "stdout"
        },
        {
          "output_type": "stream",
          "text": [
            "/usr/local/lib/python3.7/dist-packages/numba/core/ir_utils.py:2031: NumbaPendingDeprecationWarning: \n",
            "Encountered the use of a type that is scheduled for deprecation: type 'reflected list' found for argument 'x' of function 'Lagrange_jit'.\n",
            "\n",
            "For more information visit https://numba.pydata.org/numba-doc/latest/reference/deprecation.html#deprecation-of-reflection-for-list-and-set-types\n",
            "\n",
            "File \"<ipython-input-16-e2722bf108ea>\", line 30:\n",
            "@jit(nopython=True, fastmath=True)\n",
            "def Lagrange_jit(L,x,y,x_0)-> numpy.float:#Ctrl+C\n",
            "^\n",
            "\n",
            "  warnings.warn(NumbaPendingDeprecationWarning(msg, loc=loc))\n",
            "/usr/local/lib/python3.7/dist-packages/numba/core/ir_utils.py:2031: NumbaPendingDeprecationWarning: \n",
            "Encountered the use of a type that is scheduled for deprecation: type 'reflected list' found for argument 'y' of function 'Lagrange_jit'.\n",
            "\n",
            "For more information visit https://numba.pydata.org/numba-doc/latest/reference/deprecation.html#deprecation-of-reflection-for-list-and-set-types\n",
            "\n",
            "File \"<ipython-input-16-e2722bf108ea>\", line 30:\n",
            "@jit(nopython=True, fastmath=True)\n",
            "def Lagrange_jit(L,x,y,x_0)-> numpy.float:#Ctrl+C\n",
            "^\n",
            "\n",
            "  warnings.warn(NumbaPendingDeprecationWarning(msg, loc=loc))\n"
          ],
          "name": "stderr"
        },
        {
          "output_type": "stream",
          "text": [
            "100 loops, best of 5: 7.48 ms per loop\n"
          ],
          "name": "stdout"
        },
        {
          "output_type": "stream",
          "text": [
            "/usr/local/lib/python3.7/dist-packages/numba/core/ir_utils.py:2031: NumbaPendingDeprecationWarning: \n",
            "Encountered the use of a type that is scheduled for deprecation: type 'reflected list' found for argument 'x' of function 'Lagrange_jit_par'.\n",
            "\n",
            "For more information visit https://numba.pydata.org/numba-doc/latest/reference/deprecation.html#deprecation-of-reflection-for-list-and-set-types\n",
            "\n",
            "File \"<ipython-input-16-e2722bf108ea>\", line 42:\n",
            "@jit(nopython=True, parallel=True, fastmath=True)\n",
            "def Lagrange_jit_par(L,x,y,x_0)-> numpy.float:#Ctrl+C\n",
            "^\n",
            "\n",
            "  warnings.warn(NumbaPendingDeprecationWarning(msg, loc=loc))\n",
            "/usr/local/lib/python3.7/dist-packages/numba/core/ir_utils.py:2031: NumbaPendingDeprecationWarning: \n",
            "Encountered the use of a type that is scheduled for deprecation: type 'reflected list' found for argument 'y' of function 'Lagrange_jit_par'.\n",
            "\n",
            "For more information visit https://numba.pydata.org/numba-doc/latest/reference/deprecation.html#deprecation-of-reflection-for-list-and-set-types\n",
            "\n",
            "File \"<ipython-input-16-e2722bf108ea>\", line 42:\n",
            "@jit(nopython=True, parallel=True, fastmath=True)\n",
            "def Lagrange_jit_par(L,x,y,x_0)-> numpy.float:#Ctrl+C\n",
            "^\n",
            "\n",
            "  warnings.warn(NumbaPendingDeprecationWarning(msg, loc=loc))\n",
            "/usr/local/lib/python3.7/dist-packages/numba/core/ir_utils.py:2031: NumbaPendingDeprecationWarning: \n",
            "Encountered the use of a type that is scheduled for deprecation: type 'reflected list' found for argument 'x' of function '__numba_parfor_gufunc_0x7fa10eafc8d0'.\n",
            "\n",
            "For more information visit https://numba.pydata.org/numba-doc/latest/reference/deprecation.html#deprecation-of-reflection-for-list-and-set-types\n",
            "\n",
            "File \"<string>\", line 1:\n",
            "<source missing, REPL/exec in use?>\n",
            "\n",
            "  warnings.warn(NumbaPendingDeprecationWarning(msg, loc=loc))\n",
            "/usr/local/lib/python3.7/dist-packages/numba/core/ir_utils.py:2031: NumbaPendingDeprecationWarning: \n",
            "Encountered the use of a type that is scheduled for deprecation: type 'reflected list' found for argument 'y' of function '__numba_parfor_gufunc_0x7fa10eafc8d0'.\n",
            "\n",
            "For more information visit https://numba.pydata.org/numba-doc/latest/reference/deprecation.html#deprecation-of-reflection-for-list-and-set-types\n",
            "\n",
            "File \"<string>\", line 1:\n",
            "<source missing, REPL/exec in use?>\n",
            "\n",
            "  warnings.warn(NumbaPendingDeprecationWarning(msg, loc=loc))\n"
          ],
          "name": "stderr"
        },
        {
          "output_type": "stream",
          "text": [
            "100 loops, best of 5: 6.79 ms per loop\n"
          ],
          "name": "stdout"
        }
      ]
    }
  ]
}